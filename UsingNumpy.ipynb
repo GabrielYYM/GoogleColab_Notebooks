{
  "nbformat": 4,
  "nbformat_minor": 0,
  "metadata": {
    "colab": {
      "provenance": [],
      "include_colab_link": true
    },
    "kernelspec": {
      "name": "python3",
      "display_name": "Python 3"
    },
    "language_info": {
      "name": "python"
    }
  },
  "cells": [
    {
      "cell_type": "markdown",
      "metadata": {
        "id": "view-in-github",
        "colab_type": "text"
      },
      "source": [
        "<a href=\"https://colab.research.google.com/github/GabrielYYM/Notebooks/blob/main/UsingNumpy.ipynb\" target=\"_parent\"><img src=\"https://colab.research.google.com/assets/colab-badge.svg\" alt=\"Open In Colab\"/></a>"
      ]
    },
    {
      "cell_type": "code",
      "execution_count": null,
      "metadata": {
        "colab": {
          "base_uri": "https://localhost:8080/"
        },
        "id": "sFVVuLsYjQRO",
        "outputId": "fc2603fc-66c3-4f77-de7c-0eeec046019b"
      },
      "outputs": [
        {
          "output_type": "stream",
          "name": "stdout",
          "text": [
            "[0.87836589 0.68448346 0.11638662]\n",
            "[[0. 0. 0.]\n",
            " [0. 0. 0.]\n",
            " [0. 0. 0.]]\n"
          ]
        }
      ],
      "source": [
        "import numpy as np\n",
        "array_zero = np.zeros ((3, 3))\n",
        "array_rand = np.random.rand(3)\n",
        "print (array_rand)\n",
        "print (array_zero)"
      ]
    },
    {
      "cell_type": "code",
      "source": [
        "array1 = np.array([[1, 2, 3], [1, 2, 3]])\n",
        "array2 = np.array([[7, 6, 4], [4, 5, 6]])\n",
        "\n",
        "produto = np.prod(array1) * np.prod(array2)\n",
        "print(produto)\n",
        "\n"
      ],
      "metadata": {
        "colab": {
          "base_uri": "https://localhost:8080/"
        },
        "id": "N2aONBK-jhdo",
        "outputId": "72216732-c659-4504-a173-aa23fa9636c1"
      },
      "execution_count": null,
      "outputs": [
        {
          "output_type": "stream",
          "name": "stdout",
          "text": [
            "725760\n"
          ]
        }
      ]
    },
    {
      "cell_type": "code",
      "source": [
        "numero1 = 50\n",
        "\n",
        "log = np.log(numero1)\n",
        "print(log)"
      ],
      "metadata": {
        "colab": {
          "base_uri": "https://localhost:8080/"
        },
        "id": "dp1tHR3GmKWV",
        "outputId": "f8a8e138-bef3-4505-ad9b-3dada88b3f3f"
      },
      "execution_count": null,
      "outputs": [
        {
          "output_type": "stream",
          "name": "stdout",
          "text": [
            "3.912023005428146\n"
          ]
        }
      ]
    }
  ]
}