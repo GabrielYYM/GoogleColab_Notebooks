{
 "cells": [
  {
   "cell_type": "code",
   "execution_count": null,
   "id": "d73fa06a-90af-4157-9fee-fc46f5d6be76",
   "metadata": {},
   "outputs": [],
   "source": [
    "import numpy as np\n",
    "import pandas as pd\n",
    "import pandas_profiling\n",
    "import tensorflow as tf\n",
    "import sklearn.metrics as metrics\n",
    "import matplotlib.pyplot as plt \n",
    "import seaborn as sns\n",
    "import datetime as dt \n",
    "import warnings\n",
    "warnings.simplefilter(action='ignore')\n",
    "%matplotlib inline #Quote the relevant documentation \n",
    "\n",
    "pd.set_option('display.max_coluns', None)\n",
    "pd.set_option('display.width', 200)\n",
    "pd.set_option('display.float_format', lambda x: '%.3f' % x)\n",
    "\n"
   ]
  }
 ],
 "metadata": {
  "kernelspec": {
   "display_name": "Python 3 (ipykernel)",
   "language": "python",
   "name": "python3"
  },
  "language_info": {
   "codemirror_mode": {
    "name": "ipython",
    "version": 3
   },
   "file_extension": ".py",
   "mimetype": "text/x-python",
   "name": "python",
   "nbconvert_exporter": "python",
   "pygments_lexer": "ipython3",
   "version": "3.10.9"
  }
 },
 "nbformat": 4,
 "nbformat_minor": 5
}
