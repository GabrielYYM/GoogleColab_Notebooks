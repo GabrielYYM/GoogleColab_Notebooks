{
  "nbformat": 4,
  "nbformat_minor": 0,
  "metadata": {
    "colab": {
      "provenance": [],
      "toc_visible": true,
      "authorship_tag": "ABX9TyPBTeWaYVnoiaV5UF6aFVHI",
      "include_colab_link": true
    },
    "kernelspec": {
      "name": "python3",
      "display_name": "Python 3"
    },
    "language_info": {
      "name": "python"
    }
  },
  "cells": [
    {
      "cell_type": "markdown",
      "metadata": {
        "id": "view-in-github",
        "colab_type": "text"
      },
      "source": [
        "<a href=\"https://colab.research.google.com/github/GabrielYYM/GoogleColab_Notebooks/blob/main/Exerc%C3%ADcios_Python_GabrielYukio_7A_Matutino.ipynb\" target=\"_parent\"><img src=\"https://colab.research.google.com/assets/colab-badge.svg\" alt=\"Open In Colab\"/></a>"
      ]
    },
    {
      "cell_type": "markdown",
      "source": [
        "1. Calculadora de Médias\n",
        "\n",
        "Enunciado: Crie um programa que calcule a média aritmética de uma lista de números fornecida pelo usuário. O programa deve permitir que o usuário insira quantos números desejar e, ao final, exibir a média dos números inseridos.\n"
      ],
      "metadata": {
        "id": "nZj6fYDIHE0i"
      }
    },
    {
      "cell_type": "code",
      "execution_count": null,
      "metadata": {
        "id": "0SkptYtswAD2",
        "colab": {
          "base_uri": "https://localhost:8080/"
        },
        "outputId": "a2c3f473-34f9-4845-b0ca-58043a9e919b"
      },
      "outputs": [
        {
          "output_type": "stream",
          "name": "stdout",
          "text": [
            "Calculadora de Médias Aritméticas\n",
            "Digite os números desejados para calcular a média desejada:\n",
            "Digite qualquer outra coisa para finalizar\n",
            "Número: 4\n",
            "Número: 6\n",
            "Número: 8\n",
            "Número: 6\n",
            "Número: 4\n",
            "Número: aaa\n",
            "A média dos números é: 5.6\n"
          ]
        }
      ],
      "source": [
        "print(\"Calculadora de Médias Aritméticas\")\n",
        "print(\"Digite os números desejados para calcular a média desejada:\")\n",
        "print(\"Digite qualquer outra coisa para finalizar\")\n",
        "listaNumeros = []\n",
        "while True:\n",
        "  entrada = input(\"Número: \")\n",
        "  try:\n",
        "    numero = float(entrada)\n",
        "    listaNumeros.append(numero)\n",
        "  except ValueError:\n",
        "    break\n",
        "if not listaNumeros:\n",
        "    print(\"Nenhum número foi inserido.\")\n",
        "else:\n",
        "    media = sum(listaNumeros) / len(listaNumeros)\n",
        "    print(f\"A média dos números é: {media}\")\n",
        "\n"
      ]
    },
    {
      "cell_type": "markdown",
      "source": [
        "2. Contador de Caracteres\n",
        "\n",
        "Enunciado: Desenvolva um script que conte quantas vezes cada caractere aparece em uma string fornecida pelo usuário. O programa deve ignorar espaços e diferenciar maiúsculas de minúsculas."
      ],
      "metadata": {
        "id": "J5SvudVHKagg"
      }
    },
    {
      "cell_type": "code",
      "source": [
        "texto =input(\"digite um caracter\")\n",
        "contagem = {}\n",
        "for caracter in texto:\n",
        "  if caracter != \" \":\n",
        "    if caracter in contagem:\n",
        "      contagem[caracter] += 1\n",
        "    else:\n",
        "      contagem[caracter] = 1\n",
        "\n",
        "print(\"Contagem de caracteres:\")\n",
        "for caracter, quantidade in contagem.items():\n",
        "  print(f\"{caracter}: {quantidade}\")\n"
      ],
      "metadata": {
        "colab": {
          "base_uri": "https://localhost:8080/"
        },
        "id": "bGzppHf_KaJY",
        "outputId": "0db536a8-b8ce-4259-e1f4-b8f42888d6f4"
      },
      "execution_count": null,
      "outputs": [
        {
          "output_type": "stream",
          "name": "stdout",
          "text": [
            "digite um caracterteste\n",
            "Contagem de caracteres:\n",
            "t: 2\n",
            "e: 2\n",
            "s: 1\n"
          ]
        }
      ]
    },
    {
      "cell_type": "markdown",
      "source": [
        "3. Verificador de Palíndromo\n",
        "\n",
        "Enunciado: Escreva um programa que verifique se uma palavra ou frase (ignorando espaços e pontuações) é um palíndromo, ou seja, se ela é igual quando lida de trás para frente.\n"
      ],
      "metadata": {
        "id": "C5fbRIHzMsFY"
      }
    },
    {
      "cell_type": "code",
      "source": [
        "import unicodedata\n",
        "\n",
        "texto =input(\"Digite uma frase ou palavra \").strip().replace(\" \",\"\").lower()\n",
        "def remover_acentos(texto): return unicodedata.normalize('NFKD', texto).encode('ascii', 'ignore').decode('ascii')\n",
        "texto_sem_acentos = remover_acentos(texto)\n",
        "if texto_sem_acentos  == texto_sem_acentos [::-1]:\n",
        "  print(\"É um palíndromo \")\n",
        "else:\n",
        "  print(\"Não é um palíndromo \")\n"
      ],
      "metadata": {
        "id": "eqRZqW0DMr6R",
        "colab": {
          "base_uri": "https://localhost:8080/"
        },
        "outputId": "ed4428ae-833a-4886-ea41-bbe310f4947e"
      },
      "execution_count": null,
      "outputs": [
        {
          "output_type": "stream",
          "name": "stdout",
          "text": [
            "Digite uma frase ou palavra áta\n",
            "É um palíndromo \n"
          ]
        }
      ]
    },
    {
      "cell_type": "markdown",
      "source": [
        "4. Conversor de Temperatura\n",
        "\n",
        "Enunciado: Crie um conversor que transforme temperaturas de Celsius para Fahrenheit e vice-versa. O programa deve permitir que o usuário escolha o tipo de conversão e insira a temperatura."
      ],
      "metadata": {
        "id": "hCKlfE6LUhGY"
      }
    },
    {
      "cell_type": "code",
      "source": [
        "print(\"Conversor de Temperatura\")\n",
        "print(\"1. Celsius para Fahrenheit\")\n",
        "print(\"2. Fahrenheit para Celsius\")\n",
        "while True:\n",
        "    try:\n",
        "        escolha = int(input(\"Escolha uma opção (1 ou 2): \"))\n",
        "        if escolha not in [1, 2]:\n",
        "            print(\"Por favor, digite 1 ou 2.\")\n",
        "            continue\n",
        "        temperatura = float(input(\"Digite a temperatura: \"))\n",
        "        if escolha == 1:\n",
        "            resultado = (temperatura * 9/5) + 32\n",
        "            print(f\"{temperatura} graus Celsius é igual a {resultado:.2f} graus Fahrenheit.\")\n",
        "        else:\n",
        "            resultado = (temperatura - 32) * 5/9\n",
        "            print(f\"{temperatura} graus Fahrenheit é igual a {resultado:.2f} graus Celsius.\")\n",
        "        break\n",
        "    except ValueError:\n",
        "        print(\"Por favor, digite um número válido.\")\n",
        "        break"
      ],
      "metadata": {
        "colab": {
          "base_uri": "https://localhost:8080/"
        },
        "id": "7fSmXv5oWA0k",
        "outputId": "a138a41f-3aac-4ead-e624-900328320a2e"
      },
      "execution_count": null,
      "outputs": [
        {
          "output_type": "stream",
          "name": "stdout",
          "text": [
            "Conversor de Temperatura\n",
            "1. Celsius para Fahrenheit\n",
            "2. Fahrenheit para Celsius\n",
            "Escolha uma opção (1 ou 2): 2\n",
            "Digite a temperatura: 345\n",
            "345.0 graus Fahrenheit é igual a 173.89 graus Celsius.\n"
          ]
        }
      ]
    },
    {
      "cell_type": "markdown",
      "source": [
        "5. Gerador de Tabuada\n",
        "\n",
        "Enunciado: Desenvolva um programa que gere a tabuada de um número fornecido pelo usuário. O programa deve exibir a multiplicação de 1 até 10 para o número informado."
      ],
      "metadata": {
        "id": "xYk2I9iLac01"
      }
    },
    {
      "cell_type": "code",
      "source": [
        "numero = int(input(\"Digite um número para ver sua tabuada: \"))\n",
        "print(f\"\\nTabuada do {numero}:\")\n",
        "for i in range(1, 11):\n",
        "    resultado = numero * i\n",
        "    print(f\"{numero} x {i:2} = {resultado:2}\")"
      ],
      "metadata": {
        "colab": {
          "base_uri": "https://localhost:8080/"
        },
        "id": "0SkCIpdaacLS",
        "outputId": "c530ddf8-d429-4c80-c18f-5512ed6e90e1"
      },
      "execution_count": null,
      "outputs": [
        {
          "output_type": "stream",
          "name": "stdout",
          "text": [
            "Digite um número para ver sua tabuada: 89\n",
            "\n",
            "Tabuada do 89:\n",
            "89 x  1 = 89\n",
            "89 x  2 = 178\n",
            "89 x  3 = 267\n",
            "89 x  4 = 356\n",
            "89 x  5 = 445\n",
            "89 x  6 = 534\n",
            "89 x  7 = 623\n",
            "89 x  8 = 712\n",
            "89 x  9 = 801\n",
            "89 x 10 = 890\n"
          ]
        }
      ]
    },
    {
      "cell_type": "markdown",
      "source": [
        "6. Simulador de Lançamento de Dados\n",
        "\n",
        "Enunciado: Escreva um script que simule o lançamento de um dado de 6 faces. O programa deve solicitar ao usuário quantas vezes ele deseja lançar o dado e mostrar os resultados de cada lançamento."
      ],
      "metadata": {
        "id": "KWNHXEjkab_8"
      }
    },
    {
      "cell_type": "code",
      "source": [
        "import random\n",
        "\n",
        "def simular_lancamento_dado():\n",
        "    print(\"\\n=== SIMULADOR DE DADO DE 6 FACES ===\")\n",
        "\n",
        "    while True:\n",
        "        try:\n",
        "            quantidade = int(input(\"Quantas vezes deseja lançar o dado? \"))\n",
        "            if quantidade <= 0:\n",
        "                print(\"Por favor, digite um número positivo maior que zero.\")\n",
        "                continue\n",
        "            break\n",
        "        except ValueError:\n",
        "            print(\"Entrada inválida! Digite um número inteiro.\")\n",
        "\n",
        "    print(f\"\\nResultados dos {quantidade} lançamentos:\")\n",
        "    for i in range(1, quantidade + 1):\n",
        "        resultado = random.randint(1, 6)\n",
        "        print(f\"Lançamento {i}: {resultado}\")\n",
        "\n",
        "    print(\"\\nFim da simulação!\")\n",
        "\n",
        "# Executar o simulador\n",
        "simular_lancamento_dado()"
      ],
      "metadata": {
        "colab": {
          "base_uri": "https://localhost:8080/"
        },
        "id": "BZQY3ME2aiyc",
        "outputId": "917f648d-4097-4138-a9db-ee41e9f674f9"
      },
      "execution_count": null,
      "outputs": [
        {
          "output_type": "stream",
          "name": "stdout",
          "text": [
            "\n",
            "=== SIMULADOR DE DADO DE 6 FACES ===\n",
            "Quantas vezes deseja lançar o dado? 3\n",
            "\n",
            "Resultados dos 3 lançamentos:\n",
            "Lançamento 1: 4\n",
            "Lançamento 2: 6\n",
            "Lançamento 3: 2\n",
            "\n",
            "Fim da simulação!\n"
          ]
        }
      ]
    },
    {
      "cell_type": "markdown",
      "source": [
        "7. Ordenação de Lista\n",
        "\n",
        "Enunciado: Desenvolva um programa que receba uma lista de números do usuário e ordene essa lista em ordem crescente. O programa deve exibir a lista antes e depois da ordenação.\n"
      ],
      "metadata": {
        "id": "rIFDxSNZajKb"
      }
    },
    {
      "cell_type": "code",
      "source": [
        "entrada = input(\"Digite os números separados por espaço: \")\n",
        "\n",
        "numeros = list(map(int, entrada.split()))\n",
        "\n",
        "print(\"\\nLista original:\", numeros)\n",
        "\n",
        "for i in range(len(numeros) - 1):\n",
        "    for j in range(0, len(numeros) - 1 - i):\n",
        "        if numeros[j] > numeros[j + 1]:\n",
        "            numeros[j], numeros[j + 1] = numeros[j + 1], numeros[j]\n",
        "\n",
        "print(\"\\nLista ordenada:\", numeros)\n"
      ],
      "metadata": {
        "colab": {
          "base_uri": "https://localhost:8080/"
        },
        "id": "dC0zqdS2akkk",
        "outputId": "dd2f04ac-9d3a-4f8f-c4d0-956635496bd7"
      },
      "execution_count": null,
      "outputs": [
        {
          "output_type": "stream",
          "name": "stdout",
          "text": [
            "Digite os números separados por espaço: 2 0 20 1000 09 42 60\n",
            "\n",
            "Lista original: [2, 0, 20, 1000, 9, 42, 60]\n",
            "\n",
            "Lista ordenada: [0, 2, 9, 20, 42, 60, 1000]\n"
          ]
        }
      ]
    },
    {
      "cell_type": "markdown",
      "source": [
        "8. Verificador de Números Primos\n",
        "\n",
        "Enunciado: Crie um programa que determine se um número fornecido pelo usuário é primo. O programa deve informar se o número é primo ou não e listar todos os divisores do número.\n"
      ],
      "metadata": {
        "id": "pODbZdshak38"
      }
    },
    {
      "cell_type": "code",
      "source": [
        "numero = int(input(\"Digite um número inteiro positivo: \"))\n",
        "divisores = []\n",
        "eh_primo = True\n",
        "\n",
        "if numero < 2:\n",
        "    eh_primo = False\n",
        "else:\n",
        "    for i in range(2, int(numero**0.5) + 1):\n",
        "        if numero % i == 0:\n",
        "            eh_primo = False\n",
        "            break\n",
        "for i in range(1, numero + 1):\n",
        "    if numero % i == 0:\n",
        "        divisores.append(i)\n",
        "if len(divisores) > 2:\n",
        "    eh_primo = False\n",
        "print(f\"\\nNúmero analisado: {numero}\")\n",
        "print(f\"Divisores: {divisores}\")\n",
        "if eh_primo:\n",
        "    print(f\"O número {numero} É PRIMO (possui apenas 2 divisores)\")\n",
        "else:\n",
        "    print(f\"O número {numero} NÃO É PRIMO (possui {len(divisores)} divisores)\")"
      ],
      "metadata": {
        "colab": {
          "base_uri": "https://localhost:8080/"
        },
        "id": "8l6yorUkam-1",
        "outputId": "9a5e9728-c31a-4672-ef65-467ecf01ea58"
      },
      "execution_count": null,
      "outputs": [
        {
          "output_type": "stream",
          "name": "stdout",
          "text": [
            "Digite um número inteiro positivo: 5\n",
            "\n",
            "Número analisado: 5\n",
            "Divisores: [1, 5]\n",
            "O número 5 É PRIMO (possui apenas 2 divisores)\n"
          ]
        }
      ]
    },
    {
      "cell_type": "markdown",
      "source": [
        "9. Sistema de Login Simples\n",
        "\n",
        "Enunciado: Implemente um sistema de login simples que armazene os nomes de usuário e senhas em um dicionário. O programa deve permitir que o usuário se cadastre e faça login, validando as credenciais inseridas.\n"
      ],
      "metadata": {
        "id": "0uGg0rtCanTF"
      }
    },
    {
      "cell_type": "code",
      "source": [
        "usuarios = {}\n",
        "\n",
        "def mostrar_menu():\n",
        "    print(\"\\n--- SISTEMA DE LOGIN ---\")\n",
        "    print(\"1. Cadastrar novo usuário\")\n",
        "    print(\"2. Fazer login\")\n",
        "    print(\"3. Sair\")\n",
        "\n",
        "def cadastrar_usuario():\n",
        "    username = input(\"Digite um nome de usuário: \").strip()\n",
        "\n",
        "    if username in usuarios:\n",
        "        print(\"Erro: Nome de usuário já existe!\")\n",
        "        return\n",
        "\n",
        "    password = input(\"Digite uma senha: \").strip()\n",
        "    confirmacao = input(\"Confirme a senha: \").strip()\n",
        "\n",
        "    if password != confirmacao:\n",
        "        print(\"Erro: As senhas não coincidem!\")\n",
        "        return\n",
        "\n",
        "    usuarios[username] = password\n",
        "    print(f\"Usuário '{username}' cadastrado com sucesso!\")\n",
        "\n",
        "def fazer_login():\n",
        "    username = input(\"Nome de usuário: \").strip()\n",
        "    password = input(\"Senha: \").strip()\n",
        "\n",
        "    if username in usuarios and usuarios[username] == password:\n",
        "        print(f\"Login bem-sucedido! Bem-vindo, {username}!\")\n",
        "    else:\n",
        "        print(\"Erro: Usuário ou senha incorretos!\")\n",
        "\n",
        "print(\"Bem-vindo ao Sistema de Login\")\n",
        "\n",
        "while True:\n",
        "    mostrar_menu()\n",
        "    opcao = input(\"Escolha uma opção (1-3): \").strip()\n",
        "\n",
        "    if opcao == \"1\":\n",
        "        cadastrar_usuario()\n",
        "    elif opcao == \"2\":\n",
        "        fazer_login()\n",
        "    elif opcao == \"3\":\n",
        "        print(\"Saindo do sistema...\")\n",
        "        break\n",
        "    else:\n",
        "        print(\"Opção inválida! Tente novamente.\")"
      ],
      "metadata": {
        "colab": {
          "base_uri": "https://localhost:8080/"
        },
        "id": "Sv0gC0HpanlN",
        "outputId": "39a120b5-4130-4d13-e746-820651f3fb2c"
      },
      "execution_count": null,
      "outputs": [
        {
          "output_type": "stream",
          "name": "stdout",
          "text": [
            "Bem-vindo ao Sistema de Login\n",
            "\n",
            "--- SISTEMA DE LOGIN ---\n",
            "1. Cadastrar novo usuário\n",
            "2. Fazer login\n",
            "3. Sair\n",
            "Escolha uma opção (1-3): 1\n",
            "Digite um nome de usuário: Gabriel \n",
            "Digite uma senha: 123456789\n",
            "Confirme a senha: 123456789\n",
            "Usuário 'Gabriel' cadastrado com sucesso!\n",
            "\n",
            "--- SISTEMA DE LOGIN ---\n",
            "1. Cadastrar novo usuário\n",
            "2. Fazer login\n",
            "3. Sair\n",
            "Escolha uma opção (1-3): 2\n",
            "Nome de usuário: Gabriel\n",
            "Senha: 123456789\n",
            "Login bem-sucedido! Bem-vindo, Gabriel!\n",
            "\n",
            "--- SISTEMA DE LOGIN ---\n",
            "1. Cadastrar novo usuário\n",
            "2. Fazer login\n",
            "3. Sair\n",
            "Escolha uma opção (1-3): 3\n",
            "Saindo do sistema...\n"
          ]
        }
      ]
    },
    {
      "cell_type": "markdown",
      "source": [
        "10. Calculadora de Fatorial\n",
        "\n",
        "Enunciado: Escreva um programa que calcule o fatorial de um número fornecido pelo usuário utilizando um loop for. O programa deve exibir o resultado do fatorial ao final.\n"
      ],
      "metadata": {
        "id": "VxhvVcaCanxW"
      }
    },
    {
      "cell_type": "code",
      "source": [
        "print(\"Cálculo do Fatorial\")\n",
        "\n",
        "numero = int(input(\"Digite um número para calcular o fatorial: \"))\n",
        "fatorial = 1\n",
        "for i in range(1, numero + 1):\n",
        "    fatorial *= i\n",
        "\n",
        "print(f\"O fatorial de {numero} é: {fatorial}\")"
      ],
      "metadata": {
        "colab": {
          "base_uri": "https://localhost:8080/"
        },
        "id": "JU1590qJaoX2",
        "outputId": "3b88cded-f7ff-4d63-831a-4f107e8e03ce"
      },
      "execution_count": null,
      "outputs": [
        {
          "output_type": "stream",
          "name": "stdout",
          "text": [
            "Cálculo do Fatorial\n",
            "Digite um número para calcular o fatorial: 5\n",
            "O fatorial de 5 é: 120\n"
          ]
        }
      ]
    },
    {
      "cell_type": "markdown",
      "source": [
        "11. Conversor de Moedas Simples\n",
        "\n",
        "Enunciado: Crie um programa que converta um valor em reais para dólares ou euros. O programa deve permitir que o usuário escolha a moeda de destino e insira o valor a ser convertido, utilizando uma taxa de câmbio fixa definida no código.\n"
      ],
      "metadata": {
        "id": "mK1TsvXiar-2"
      }
    },
    {
      "cell_type": "code",
      "source": [
        "COTACAO = {\n",
        "    '1': 6.32,  # Euro\n",
        "    '2': 5.39,  # Dólar\n",
        "}\n",
        "\n",
        "print(\"Conversor de Moedas\")\n",
        "\n",
        "valor_brl = float(input(\"\\nDigite o valor em Reais (R$): \"))\n",
        "moeda = input(\"Qual moeda deseja converter:\\n1. Euro\\n2. Dólar\\n\")\n",
        "\n",
        "if moeda not in COTACAO:\n",
        "    print(\"\\nErro: Moeda inválida! Digite 1 ou 2.\")\n",
        "else:\n",
        "    valor_convertido = valor_brl / COTACAO[moeda]\n",
        "\n",
        "    if moeda == '1':\n",
        "        simbolo = \"€\"\n",
        "        nome_moeda = \"Euro\"\n",
        "    else:\n",
        "        simbolo = \"US$\"\n",
        "        nome_moeda = \"Dólar\"\n",
        "\n",
        "    print(\"\\nResultado:\")\n",
        "    print(f\"R$ {valor_brl:.2f} = {simbolo} {valor_convertido:.2f}\")\n",
        "    print(f\"Taxa: 1 {nome_moeda} = R$ {COTACAO[moeda]:.2f}\")\n",
        "    print(f\"Moeda: {nome_moeda}\")\n"
      ],
      "metadata": {
        "colab": {
          "base_uri": "https://localhost:8080/"
        },
        "id": "gwrHQPzZasfu",
        "outputId": "557f1b92-594a-4501-be85-4d65a659631c"
      },
      "execution_count": null,
      "outputs": [
        {
          "output_type": "stream",
          "name": "stdout",
          "text": [
            "Conversor de Moedas\n",
            "\n",
            "Digite o valor em Reais (R$): 23\n",
            "Qual moeda deseja converter:\n",
            "1. Euro\n",
            "2. Dólar\n",
            "1\n",
            "\n",
            "Resultado:\n",
            "R$ 23.00 = € 3.64\n",
            "Taxa: 1 Euro = R$ 6.32\n",
            "Moeda: Euro\n"
          ]
        }
      ]
    },
    {
      "cell_type": "markdown",
      "source": [
        "12. Contador de Palavras\n",
        "\n",
        "Enunciado: Desenvolva um script que conte o número de palavras em uma frase fornecida pelo usuário. O programa deve ignorar pontuações e considerar apenas as palavras separadas por espaços.\n"
      ],
      "metadata": {
        "id": "uHB1an8Yas6W"
      }
    },
    {
      "cell_type": "code",
      "source": [
        "import string\n",
        "\n",
        "print(\"Contador de Palavras\")\n",
        "\n",
        "frase = input(\"Digite uma frase: \")\n",
        "frase_sem_pontuacao = frase.translate(str.maketrans('', '', string.punctuation))\n",
        "palavras = frase_sem_pontuacao.split()\n",
        "numero_de_palavras = len(palavras)\n",
        "\n",
        "print(f\"A frase contém {numero_de_palavras} palavras.\")\n"
      ],
      "metadata": {
        "colab": {
          "base_uri": "https://localhost:8080/"
        },
        "id": "VvExC3CeatI2",
        "outputId": "b28b7771-5504-4235-ab1b-a015cfa02a62"
      },
      "execution_count": null,
      "outputs": [
        {
          "output_type": "stream",
          "name": "stdout",
          "text": [
            "Contador de Palavras\n",
            "Digite uma frase: Água mole, pedra dura, tanto bate até que fura.\n",
            "A frase contém 9 palavras.\n"
          ]
        }
      ]
    },
    {
      "cell_type": "markdown",
      "source": [
        "13. Gerador de Números Aleatórios\n",
        "\n",
        "Enunciado: Escreva um programa que gere n números aleatórios entre um intervalo fornecido pelo usuário. O programa deve solicitar o valor de n e os limites inferior e superior do intervalo.\n"
      ],
      "metadata": {
        "id": "9f4Aga9caxLo"
      }
    },
    {
      "cell_type": "code",
      "source": [
        "import random\n",
        "\n",
        "print(\"Geração de Números Aleatórios\")\n",
        "\n",
        "n = int(input(\"Quantos números aleatórios deseja gerar? \"))\n",
        "limite_inferior = int(input(\"Digite o limite inferior do intervalo: \"))\n",
        "limite_superior = int(input(\"Digite o limite superior do intervalo: \"))\n",
        "numeros_aleatorios = [random.randint(limite_inferior, limite_superior) for _ in range(n)]\n",
        "\n",
        "print(f\"\\nNúmeros aleatórios gerados entre {limite_inferior} e {limite_superior}:\")\n",
        "print(numeros_aleatorios)"
      ],
      "metadata": {
        "colab": {
          "base_uri": "https://localhost:8080/"
        },
        "id": "aLX2BRKza1ug",
        "outputId": "996ada83-9ae8-4f60-cbf3-f4b03557952a"
      },
      "execution_count": null,
      "outputs": [
        {
          "output_type": "stream",
          "name": "stdout",
          "text": [
            "Geração de Números Aleatórios\n",
            "Quantos números aleatórios deseja gerar? 5\n",
            "Digite o limite inferior do intervalo: 1\n",
            "Digite o limite superior do intervalo: 99\n",
            "\n",
            "Números aleatórios gerados entre 1 e 99:\n",
            "[57, 90, 76, 95, 32]\n"
          ]
        }
      ]
    },
    {
      "cell_type": "markdown",
      "source": [
        "14. Calculadora de Média Ponderada\n",
        "\n",
        "Enunciado: Implemente uma calculadora que permita ao usuário calcular a média ponderada de um conjunto de notas. O usuário deve inserir as notas e os respectivos pesos, e o programa deve calcular e exibir a média ponderada.\n"
      ],
      "metadata": {
        "id": "0aI-7y-Ea1bQ"
      }
    },
    {
      "cell_type": "code",
      "source": [
        "print(\"Calculadora de Média Ponderada\")\n",
        "num_notas = int(input(\"Quantas notas deseja inserir? \"))\n",
        "\n",
        "total_ponderado = 0\n",
        "total_pesos = 0\n",
        "\n",
        "for i in range(1, num_notas + 1):\n",
        "    nota = float(input(f\"Digite a nota {i}: \"))\n",
        "    peso = float(input(f\"Digite o peso da nota {i}: \"))\n",
        "\n",
        "    total_ponderado += nota * peso\n",
        "    total_pesos += peso\n",
        "\n",
        "media_ponderada = total_ponderado / total_pesos\n",
        "\n",
        "print(f\"\\nA média ponderada das notas é: {media_ponderada:.2f}\")"
      ],
      "metadata": {
        "colab": {
          "base_uri": "https://localhost:8080/"
        },
        "id": "259lCtTha2NY",
        "outputId": "f33f2615-3d0a-4966-b3be-055eea611c4f"
      },
      "execution_count": null,
      "outputs": [
        {
          "output_type": "stream",
          "name": "stdout",
          "text": [
            "Calculadora de Média Ponderada\n",
            "Quantas notas deseja inserir? 4\n",
            "Digite a nota 1: 10\n",
            "Digite o peso da nota 1: 1\n",
            "Digite a nota 2: 5\n",
            "Digite o peso da nota 2: 2\n",
            "Digite a nota 3: 9\n",
            "Digite o peso da nota 3: 1.2\n",
            "Digite a nota 4: 10\n",
            "Digite o peso da nota 4: 2.8\n",
            "\n",
            "A média ponderada das notas é: 8.40\n"
          ]
        }
      ]
    },
    {
      "cell_type": "markdown",
      "source": [
        "15. Cálculo de Raiz Quadrada\n",
        "\n",
        "Enunciado: Desenvolva um programa que calcule a raiz quadrada de um número fornecido pelo usuário. Utilize a função sqrt() do módulo math e exiba o resultado.\n"
      ],
      "metadata": {
        "id": "leMj7qWsa33p"
      }
    },
    {
      "cell_type": "code",
      "source": [
        "import math\n",
        "\n",
        "print(\"Cálculo de Raiz Quadrada\")\n",
        "\n",
        "numero = float(input(\"Digite um número para calcular a raiz quadrada: \"))\n",
        "raiz_quadrada = math.sqrt(numero)\n",
        "\n",
        "print(f\"A raiz quadrada de {numero} é: {raiz_quadrada:.2f}\")"
      ],
      "metadata": {
        "colab": {
          "base_uri": "https://localhost:8080/"
        },
        "id": "RP56S01Ja4FA",
        "outputId": "b48b86d1-458a-4010-d1b8-1b50fdcd7b2e"
      },
      "execution_count": null,
      "outputs": [
        {
          "output_type": "stream",
          "name": "stdout",
          "text": [
            "Cálculo de Raiz Quadrada\n",
            "Digite um número para calcular a raiz quadrada: 1\n",
            "A raiz quadrada de 1.0 é: 1.00\n"
          ]
        }
      ]
    },
    {
      "cell_type": "markdown",
      "source": [
        "16. Simulador de Caixa Eletrônico\n",
        "\n",
        "Enunciado: Crie um programa que simule um caixa eletrônico. O usuário deve inserir o valor que deseja sacar, e o programa deve exibir quantas notas de cada valor serão entregues (R$100, R$50, R$20, R$10).\n"
      ],
      "metadata": {
        "id": "B3niLEsSa4XJ"
      }
    },
    {
      "cell_type": "code",
      "source": [
        "print(\"Caixa Eletrônico\")\n",
        "print(\"Notas disponíveis: R$100, R$50, R$20, R$10\\n\")\n",
        "\n",
        "valor = int(input(\"Digite o valor que deseja sacar: R$\"))\n",
        "\n",
        "if valor % 10 != 0:\n",
        "    print(\"Valor inválido! O caixa só trabalha com múltiplos de R$10.\")\n",
        "else:\n",
        "    notas100 = valor // 100\n",
        "    resto = valor % 100\n",
        "\n",
        "    notas50 = resto // 50\n",
        "    resto = resto % 50\n",
        "\n",
        "    notas20 = resto // 20\n",
        "    resto = resto % 20\n",
        "\n",
        "    notas10 = resto // 10\n",
        "\n",
        "    print(\"\\nVocê receberá:\")\n",
        "    if notas100 > 0:\n",
        "        print(f\"{notas100} nota(s) de R$100\")\n",
        "    if notas50 > 0:\n",
        "        print(f\"{notas50} nota(s) de R$50\")\n",
        "    if notas20 > 0:\n",
        "        print(f\"{notas20} nota(s) de R$20\")\n",
        "    if notas10 > 0:\n",
        "        print(f\"{notas10} nota(s) de R$10\")"
      ],
      "metadata": {
        "id": "pPPXCe1Ha4nx",
        "colab": {
          "base_uri": "https://localhost:8080/"
        },
        "outputId": "f29710d3-bfae-4903-95fc-cc9409cab924"
      },
      "execution_count": null,
      "outputs": [
        {
          "output_type": "stream",
          "name": "stdout",
          "text": [
            "Caixa Eletrônico\n",
            "Notas disponíveis: R$100, R$50, R$20, R$10\n",
            "\n",
            "Digite o valor que deseja sacar: R$290\n",
            "\n",
            "Você receberá:\n",
            "2 nota(s) de R$100\n",
            "1 nota(s) de R$50\n",
            "2 nota(s) de R$20\n"
          ]
        }
      ]
    },
    {
      "cell_type": "markdown",
      "source": [
        "17. Verificador de Ano Bissexto\n",
        "\n",
        "Enunciado: Escreva um programa que determine se um ano fornecido pelo usuário é bissexto. O programa deve seguir as regras para anos bissextos (divisíveis por 4, exceto se divisíveis por 100, mas divisíveis por 400).\n"
      ],
      "metadata": {
        "id": "UL8pW5uUg1Au"
      }
    },
    {
      "cell_type": "code",
      "source": [
        "print(\"Verificador de Ano Bissexto\")\n",
        "ano = int(input(\"Digite um ano: \"))\n",
        "if (ano % 4 == 0 and ano % 100 != 0) or (ano % 400 == 0):\n",
        "    print(f\"{ano} é um ano bissexto.\")\n",
        "else:\n",
        "    print(f\"{ano} não é um ano bissexto.\")"
      ],
      "metadata": {
        "colab": {
          "base_uri": "https://localhost:8080/"
        },
        "id": "nkKhiOHdg1Rm",
        "outputId": "d2fc3b4a-4e5a-41d3-9841-58745a09970c"
      },
      "execution_count": null,
      "outputs": [
        {
          "output_type": "stream",
          "name": "stdout",
          "text": [
            "Verificador de Ano Bissexto\n",
            "Digite um ano: 2008\n",
            "2008 é um ano bissexto.\n"
          ]
        }
      ]
    },
    {
      "cell_type": "markdown",
      "source": [
        "18. Gerenciador de Contatos Simples\n",
        "\n",
        "Enunciado: Desenvolva um sistema simples para gerenciar contatos, onde o usuário pode adicionar, remover e listar contatos (nome e telefone). Utilize um dicionário para armazenar os contatos."
      ],
      "metadata": {
        "id": "sW3y98MdhDTC"
      }
    },
    {
      "cell_type": "code",
      "source": [
        "contatos = {}\n",
        "\n",
        "def mostrar_menu():\n",
        "    print(\"\\n--- MENU ---\")\n",
        "    print(\"1. Adicionar contato\")\n",
        "    print(\"2. Remover contato\")\n",
        "    print(\"3. Listar contatos\")\n",
        "    print(\"4. Sair\")\n",
        "\n",
        "def adicionar_contato():\n",
        "    nome = input(\"Digite o nome do contato: \").strip()\n",
        "    telefone = input(\"Digite o telefone do contato: \").strip()\n",
        "    contatos[nome] = telefone\n",
        "    print(f\"Contato '{nome}' adicionado com sucesso!\")\n",
        "\n",
        "def remover_contato():\n",
        "    nome = input(\"Digite o nome do contato a ser removido: \").strip()\n",
        "    if nome in contatos:\n",
        "        del contatos[nome]\n",
        "        print(f\"Contato '{nome}' removido com sucesso!\")\n",
        "    else:\n",
        "        print(f\"Contato '{nome}' não encontrado.\")\n",
        "\n",
        "def listar_contatos():\n",
        "    if not contatos:\n",
        "        print(\"Nenhum contato cadastrado.\")\n",
        "    else:\n",
        "        print(\"\\n--- LISTA DE CONTATOS ---\")\n",
        "        for nome, telefone in contatos.items():\n",
        "            print(f\"Nome: {nome} - Telefone: {telefone}\")\n",
        "\n",
        "print(\"Bem-vindo ao Gerenciador de Contatos!\")\n",
        "\n",
        "while True:\n",
        "    mostrar_menu()\n",
        "    opcao = input(\"Escolha uma opção (1-4): \")\n",
        "\n",
        "    if opcao == \"1\":\n",
        "        adicionar_contato()\n",
        "    elif opcao == \"2\":\n",
        "        remover_contato()\n",
        "    elif opcao == \"3\":\n",
        "        listar_contatos()\n",
        "    elif opcao == \"4\":\n",
        "        print(\"Saindo do sistema...\")\n",
        "        break\n",
        "    else:\n",
        "        print(\"Opção inválida! Tente novamente.\")"
      ],
      "metadata": {
        "colab": {
          "base_uri": "https://localhost:8080/"
        },
        "id": "su3U5LVkhDl5",
        "outputId": "8503c703-4f30-4312-dcfe-2ded17d0c48a"
      },
      "execution_count": null,
      "outputs": [
        {
          "output_type": "stream",
          "name": "stdout",
          "text": [
            "Bem-vindo ao Gerenciador de Contatos!\n",
            "\n",
            "--- MENU ---\n",
            "1. Adicionar contato\n",
            "2. Remover contato\n",
            "3. Listar contatos\n",
            "4. Sair\n",
            "Escolha uma opção (1-4): 1\n",
            "Digite o nome do contato: Gabriel Yukio \n",
            "Digite o telefone do contato: 2314112334\n",
            "Contato 'Gabriel Yukio' adicionado com sucesso!\n",
            "\n",
            "--- MENU ---\n",
            "1. Adicionar contato\n",
            "2. Remover contato\n",
            "3. Listar contatos\n",
            "4. Sair\n",
            "Escolha uma opção (1-4): 3\n",
            "\n",
            "--- LISTA DE CONTATOS ---\n",
            "Nome: Gabriel Yukio - Telefone: 2314112334\n",
            "\n",
            "--- MENU ---\n",
            "1. Adicionar contato\n",
            "2. Remover contato\n",
            "3. Listar contatos\n",
            "4. Sair\n",
            "Escolha uma opção (1-4): 2\n",
            "Digite o nome do contato a ser removido: Gabriel Yukio\n",
            "Contato 'Gabriel Yukio' removido com sucesso!\n",
            "\n",
            "--- MENU ---\n",
            "1. Adicionar contato\n",
            "2. Remover contato\n",
            "3. Listar contatos\n",
            "4. Sair\n",
            "Escolha uma opção (1-4): 3\n",
            "Nenhum contato cadastrado.\n",
            "\n",
            "--- MENU ---\n",
            "1. Adicionar contato\n",
            "2. Remover contato\n",
            "3. Listar contatos\n",
            "4. Sair\n",
            "Escolha uma opção (1-4): 4\n",
            "Saindo do sistema...\n"
          ]
        }
      ]
    },
    {
      "cell_type": "markdown",
      "source": [
        "19. Calculadora de Desconto\n",
        "\n",
        "Enunciado: Crie um programa que calcule o preço final de um produto após a aplicação de um desconto. O usuário deve inserir o preço original e a porcentagem de desconto, e o programa deve exibir o preço final."
      ],
      "metadata": {
        "id": "cc_e0FMuhFKp"
      }
    },
    {
      "cell_type": "code",
      "source": [
        "print(\"Cálculo de Preço com Desconto\")\n",
        "preco_original = float(input(\"Digite o preço original do produto: R$ \"))\n",
        "desconto_percentual = float(input(\"Digite a porcentagem de desconto: \"))\n",
        "\n",
        "desconto = preco_original * (desconto_percentual / 100)\n",
        "preco_final = preco_original - desconto\n",
        "\n",
        "print(f\"\\nPreço original: R$ {preco_original:.2f}\")\n",
        "print(f\"Desconto aplicado: R$ {desconto:.2f}\")\n",
        "print(f\"Preço final: R$ {preco_final:.2f}\")"
      ],
      "metadata": {
        "colab": {
          "base_uri": "https://localhost:8080/"
        },
        "id": "pcfMWw47hFma",
        "outputId": "d46269c3-9bba-43e4-d5f2-46de57472d79"
      },
      "execution_count": null,
      "outputs": [
        {
          "output_type": "stream",
          "name": "stdout",
          "text": [
            "Cálculo de Preço com Desconto\n",
            "Digite o preço original do produto: R$ 200\n",
            "Digite a porcentagem de desconto: 13\n",
            "\n",
            "Preço original: R$ 200.00\n",
            "Desconto aplicado: R$ 26.00\n",
            "Preço final: R$ 174.00\n"
          ]
        }
      ]
    },
    {
      "cell_type": "markdown",
      "source": [
        "20. Análise de Dados Simples com Pandas e Matplotlib\n",
        "\n",
        "Enunciado: Utilize o Pandas para carregar um dataset simples, como o conjunto de dados do Titanic ou Iris, disponível na biblioteca seaborn. Realize uma análise básica para calcular estatísticas descritivas, como média e mediana de colunas numéricas. Em seguida, utilize o Matplotlib para criar gráficos simples (como histogramas ou gráficos de barras) que visualizem algumas dessas estatísticas ou distribuições."
      ],
      "metadata": {
        "id": "fC8odhwJhINW"
      }
    },
    {
      "cell_type": "code",
      "source": [
        "import seaborn as sns\n",
        "import matplotlib.pyplot as plt\n",
        "import pandas as pd\n",
        "\n",
        "iris = sns.load_dataset('iris')\n",
        "\n",
        "print(\"Estatisticas Descritivas\")\n",
        "print(iris.describe())\n",
        "\n",
        "#media mediana\n",
        "for colluna in iris.select_dtypes(include=[\"float64\"]).columns:\n",
        "  print(f\"\\n{colluna}\")\n",
        "  print(f\"Média: {iris[colluna].mean()}\")\n",
        "  print(f\"Mediana: {iris[colluna].median()}\")\n",
        "\n",
        "#estatistica por especie\n",
        "print(\"estatistica por especie\")\n",
        "for especie in iris[\"species\"].unique():\n",
        "  print(f\"\\n{especie}\")\n",
        "  print(iris[iris[\"species\"] == especie].describe())\n",
        "\n",
        "plt.figure(figsize=(15, 10))\n",
        "colunas_numericas = iris.select_dtypes(include=[\"float64\"]).columns\n",
        "for i, colluna in enumerate(colunas_numericas, 1):\n",
        "  plt.subplot(2, 2, i)\n",
        "  plt.hist(iris[colluna], bins=20, color=\"blue\", edgecolor=\"black\")\n",
        "  plt.title(f\"Histograma de {colluna}\")\n",
        "  plt.xlabel(colluna)\n",
        "  plt.ylabel(\"Frequência\")\n",
        "\n",
        "  plt.axvline(iris[colluna].mean(), color=\"red\", linestyle=\"dashed\", linewidth=2, label=\"Média\")\n",
        "  plt.axvline(iris[colluna].median(), color=\"green\", linestyle=\"dashed\", linewidth=2, label=\"Mediana\")\n",
        "  plt.legend()\n",
        "\n",
        "plt.tight_layout()\n",
        "plt.show()"
      ],
      "metadata": {
        "id": "EcwBD2W6hIea",
        "colab": {
          "base_uri": "https://localhost:8080/",
          "height": 1000
        },
        "outputId": "3fc90296-9a95-4a31-d913-4db4cc66f48a"
      },
      "execution_count": 10,
      "outputs": [
        {
          "output_type": "stream",
          "name": "stdout",
          "text": [
            "Estatisticas Descritivas\n",
            "       sepal_length  sepal_width  petal_length  petal_width\n",
            "count    150.000000   150.000000    150.000000   150.000000\n",
            "mean       5.843333     3.057333      3.758000     1.199333\n",
            "std        0.828066     0.435866      1.765298     0.762238\n",
            "min        4.300000     2.000000      1.000000     0.100000\n",
            "25%        5.100000     2.800000      1.600000     0.300000\n",
            "50%        5.800000     3.000000      4.350000     1.300000\n",
            "75%        6.400000     3.300000      5.100000     1.800000\n",
            "max        7.900000     4.400000      6.900000     2.500000\n",
            "\n",
            "sepal_length\n",
            "Média: 5.843333333333334\n",
            "Mediana: 5.8\n",
            "\n",
            "sepal_width\n",
            "Média: 3.0573333333333337\n",
            "Mediana: 3.0\n",
            "\n",
            "petal_length\n",
            "Média: 3.7580000000000005\n",
            "Mediana: 4.35\n",
            "\n",
            "petal_width\n",
            "Média: 1.1993333333333336\n",
            "Mediana: 1.3\n",
            "estatistica por especie\n",
            "\n",
            "setosa\n",
            "       sepal_length  sepal_width  petal_length  petal_width\n",
            "count      50.00000    50.000000     50.000000    50.000000\n",
            "mean        5.00600     3.428000      1.462000     0.246000\n",
            "std         0.35249     0.379064      0.173664     0.105386\n",
            "min         4.30000     2.300000      1.000000     0.100000\n",
            "25%         4.80000     3.200000      1.400000     0.200000\n",
            "50%         5.00000     3.400000      1.500000     0.200000\n",
            "75%         5.20000     3.675000      1.575000     0.300000\n",
            "max         5.80000     4.400000      1.900000     0.600000\n",
            "\n",
            "versicolor\n",
            "       sepal_length  sepal_width  petal_length  petal_width\n",
            "count     50.000000    50.000000     50.000000    50.000000\n",
            "mean       5.936000     2.770000      4.260000     1.326000\n",
            "std        0.516171     0.313798      0.469911     0.197753\n",
            "min        4.900000     2.000000      3.000000     1.000000\n",
            "25%        5.600000     2.525000      4.000000     1.200000\n",
            "50%        5.900000     2.800000      4.350000     1.300000\n",
            "75%        6.300000     3.000000      4.600000     1.500000\n",
            "max        7.000000     3.400000      5.100000     1.800000\n",
            "\n",
            "virginica\n",
            "       sepal_length  sepal_width  petal_length  petal_width\n",
            "count      50.00000    50.000000     50.000000     50.00000\n",
            "mean        6.58800     2.974000      5.552000      2.02600\n",
            "std         0.63588     0.322497      0.551895      0.27465\n",
            "min         4.90000     2.200000      4.500000      1.40000\n",
            "25%         6.22500     2.800000      5.100000      1.80000\n",
            "50%         6.50000     3.000000      5.550000      2.00000\n",
            "75%         6.90000     3.175000      5.875000      2.30000\n",
            "max         7.90000     3.800000      6.900000      2.50000\n"
          ]
        },
        {
          "output_type": "display_data",
          "data": {
            "text/plain": [
              "<Figure size 1500x1000 with 4 Axes>"
            ],
            "image/png": "[encoded data removed]"
          },
          "metadata": {}
        }
      ]
    }
  ]
}